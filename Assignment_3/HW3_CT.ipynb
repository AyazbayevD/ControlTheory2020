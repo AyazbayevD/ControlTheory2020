{
  "nbformat": 4,
  "nbformat_minor": 0,
  "metadata": {
    "colab": {
      "name": "HW3_CT.ipynb",
      "provenance": [],
      "collapsed_sections": []
    },
    "kernelspec": {
      "name": "python3",
      "display_name": "Python 3"
    }
  },
  "cells": [
    {
      "cell_type": "markdown",
      "metadata": {
        "id": "usCVVmdVCbGz",
        "colab_type": "text"
      },
      "source": [
        "2A"
      ]
    },
    {
      "cell_type": "code",
      "metadata": {
        "id": "FJ0b-xM1yifR",
        "colab_type": "code",
        "outputId": "d64d4785-4e59-4566-98f4-37dfa5362659",
        "colab": {
          "base_uri": "https://localhost:8080/",
          "height": 329
        }
      },
      "source": [
        "#importing needed libraries\n",
        "import numpy as np\n",
        "import matplotlib.pyplot as plt\n",
        "import math\n",
        "from scipy.integrate import odeint\n",
        "\n",
        "time = np.linspace(0, 25, 10000) #defining in which bounds to plot\n",
        "kp = 100 #proportional control coefficient\n",
        "kd = 100 #derivative control coefficient\n",
        "k = 7     #given constant\n",
        "mu = 25   #given constant\n",
        "init = [2.5, 3.5] #you can write here any initial conditions\n",
        "\n",
        "def ref(t):  #desired reference state\n",
        "  return 5.0 * t #function of desired reference state\n",
        "def dref(t): #rate of change of desired reference state\n",
        "  return 5.0 #derivative of previous function\n",
        "def no_control(x, t): #model without any control\n",
        "  y = x[0] \n",
        "  dy = x[1]\n",
        "  xdot = [[], []]\n",
        "  xdot[0] = dy\n",
        "  xdot[1] = -mu * dy - k * y\n",
        "  return xdot  \n",
        "def pd_control(x, t): #model with PD control\n",
        "  err = ref(t) - x[0] #error\n",
        "  derr = dref(t) - x[1] #rate of change of error\n",
        "  u = kd * derr + kp * err \n",
        "  y = x[0]\n",
        "  dy = x[1]\n",
        "  xdot = [[], []]\n",
        "  xdot[0] = dy\n",
        "  xdot[1] = u - mu * dy - k * y\n",
        "  return xdot\n",
        "'''\n",
        "plt.subplot(111) #positioning the plotted graph\n",
        "plt.title(\"no control\") #title of graph\n",
        "plt.xlabel(\"t\")   #what means x-axis (time)\n",
        "plt.ylabel(\"x\")   #what means y-axis (x)\n",
        "plt.plot(time, odeint(no_control, init, time)) #plotting ODE solution for model without control\n",
        "'''\n",
        "plt.subplot(111)\n",
        "plt.title(\"PD control\")\n",
        "plt.xlabel(\"t\") \n",
        "plt.ylabel(\"x\")\n",
        "plt.plot(time, odeint(pd_control, init, time)) #plotting ODE solution for model with PD control\n"
      ],
      "execution_count": 0,
      "outputs": [
        {
          "output_type": "execute_result",
          "data": {
            "text/plain": [
              "[<matplotlib.lines.Line2D at 0x7f864d2539b0>,\n",
              " <matplotlib.lines.Line2D at 0x7f864c1e65c0>]"
            ]
          },
          "metadata": {
            "tags": []
          },
          "execution_count": 77
        },
        {
          "output_type": "display_data",
          "data": {
            "image/png": "[encoded data removed]",
            "text/plain": [
              "<Figure size 432x288 with 1 Axes>"
            ]
          },
          "metadata": {
            "tags": []
          }
        }
      ]
    },
    {
      "cell_type": "markdown",
      "metadata": {
        "id": "9tEA2ebiplBB",
        "colab_type": "text"
      },
      "source": [
        "2B"
      ]
    },
    {
      "cell_type": "code",
      "metadata": {
        "id": "ocg5qJV_pimZ",
        "colab_type": "code",
        "outputId": "cf175318-f6d4-4af4-c26e-785a0687aa83",
        "colab": {
          "base_uri": "https://localhost:8080/",
          "height": 329
        }
      },
      "source": [
        "#importing needed libraries\n",
        "import numpy as np\n",
        "import matplotlib.pyplot as plt\n",
        "import math\n",
        "from scipy.integrate import odeint\n",
        "\n",
        "time = np.linspace(0, 25, 10000) #defining in which bounds to plot\n",
        "kp = 100 #proportional control coefficient\n",
        "kd = 100 #derivative control coefficient\n",
        "k = 7     #given constant\n",
        "mu = 25   #given constant\n",
        "init = [0, 0] #zero initial conditions\n",
        "\n",
        "def ref(t):  #desired reference state (step function)\n",
        "  if t == 0:\n",
        "    return 0.5\n",
        "  elif t < 0:\n",
        "    return 0\n",
        "  else: \n",
        "    return 1\n",
        "def dref(t): #rate of change of desired reference state\n",
        "  return 0   #derivative of previous function\n",
        "def step(x, t): #function for defining ODE for step response\n",
        "  err = ref(t) - x[0] #error\n",
        "  derr = dref(t) - x[1] #rate of change of error\n",
        "  u = kd * derr + kp * err #control\n",
        "  y = x[0]\n",
        "  dy = x[1]\n",
        "  xdot = [[], []]\n",
        "  xdot[0] = dy\n",
        "  xdot[1] = u - mu * dy - k * y\n",
        "  return xdot\n",
        "plt.subplot(111)\n",
        "plt.title(\"Step response\")\n",
        "plt.xlabel(\"t\") \n",
        "plt.ylabel(\"x\")\n",
        "plt.plot(time, odeint(step, init, time)) #solving ODE and plotting step response"
      ],
      "execution_count": 95,
      "outputs": [
        {
          "output_type": "execute_result",
          "data": {
            "text/plain": [
              "[<matplotlib.lines.Line2D at 0x7f864c2bd668>,\n",
              " <matplotlib.lines.Line2D at 0x7f864c44cf60>]"
            ]
          },
          "metadata": {
            "tags": []
          },
          "execution_count": 95
        },
        {
          "output_type": "display_data",
          "data": {
            "image/png": "[encoded data removed]",
            "text/plain": [
              "<Figure size 432x288 with 1 Axes>"
            ]
          },
          "metadata": {
            "tags": []
          }
        }
      ]
    },
    {
      "cell_type": "markdown",
      "metadata": {
        "id": "U5c98hXPCjVu",
        "colab_type": "text"
      },
      "source": [
        "2E"
      ]
    },
    {
      "cell_type": "code",
      "metadata": {
        "id": "HxggbOraCldE",
        "colab_type": "code",
        "colab": {
          "base_uri": "https://localhost:8080/",
          "height": 312
        },
        "outputId": "357e7cb9-a13e-48ce-df5c-dfba080d0bc7"
      },
      "source": [
        "#importing needed libraries\n",
        "import numpy as np\n",
        "import matplotlib.pyplot as plt\n",
        "import scipy.integrate as integrate\n",
        "import math\n",
        "from scipy.integrate import odeint\n",
        "\n",
        "time = np.linspace(0, 25, 10000) #defining in which bounds to plot\n",
        "kp = 1000 #proportional control coefficient\n",
        "ki = 1 #integral control coefficient\n",
        "k = 7     #given constant\n",
        "mu = 25   #given constant\n",
        "init = [2.5, 3.5] #you can write here any initial conditions\n",
        "\n",
        "def ref(t):  #desired reference state\n",
        "  return 5.0*t #function of desired reference state\n",
        "def no_control(x, t): #model without any control\n",
        "  y = x[0] \n",
        "  dy = x[1]\n",
        "  xdot = [[], []]\n",
        "  xdot[0] = dy\n",
        "  xdot[1] = -mu * dy - k * y - 9.8\n",
        "  return xdot  \n",
        "def pi_control(x, t): #model with PD control\n",
        "  err = ref(t) - x[0] #error\n",
        "  diff = lambda t: ref(t) - x[0]\n",
        "  ierr = integrate.quad(diff, 0, t)[0] #integral of error\n",
        "  u = ki * ierr + kp * err #control\n",
        "  y = x[0]\n",
        "  dy = x[1]\n",
        "  xdot = [[], []]\n",
        "  xdot[0] = dy\n",
        "  xdot[1] = u - mu * dy - k * y - 9.8\n",
        "  return xdot\n",
        "\n",
        "plt.subplot(111) #positioning the plotted graph\n",
        "plt.title(\"no control\") #title of graph\n",
        "plt.xlabel(\"t\")   #what means x-axis (time)\n",
        "plt.ylabel(\"x\")   #what means y-axis (x)\n",
        "plt.plot(time, odeint(no_control, init, time)) #plotting ODE solution for model without control\n",
        "'''\n",
        "plt.subplot(111)\n",
        "plt.title(\"PI control\")\n",
        "plt.xlabel(\"t\") \n",
        "plt.ylabel(\"x\")\n",
        "plt.plot(time, odeint(pi_control, init, time)) #plotting ODE solution for model with PI control\n",
        "'''"
      ],
      "execution_count": 121,
      "outputs": [
        {
          "output_type": "execute_result",
          "data": {
            "text/plain": [
              "'\\nplt.subplot(111)\\nplt.title(\"PI control\")\\nplt.xlabel(\"t\") \\nplt.ylabel(\"x\")\\nplt.plot(time, odeint(pi_control, init, time)) #plotting ODE solution for model with PI control\\n'"
            ]
          },
          "metadata": {
            "tags": []
          },
          "execution_count": 121
        },
        {
          "output_type": "display_data",
          "data": {
            "image/png": "[encoded data removed]",
            "text/plain": [
              "<Figure size 432x288 with 1 Axes>"
            ]
          },
          "metadata": {
            "tags": []
          }
        }
      ]
    }
  ]
}